{
 "cells": [
  {
   "cell_type": "code",
   "execution_count": 1,
   "metadata": {},
   "outputs": [],
   "source": [
    "%load_ext autoreload\n",
    "%autoreload 2"
   ]
  },
  {
   "cell_type": "markdown",
   "metadata": {},
   "source": [
    "# Marginal Learning in Discrete Markov Networks"
   ]
  },
  {
   "cell_type": "markdown",
   "metadata": {},
   "source": [
    "In this notebook, we show an example for learning the parameters (potentials) of a Factor Graph or Markov Network given the data and its corresponding marginals.\n",
    "\n",
    "In the examples, we will generate some data from given models and perform out of clique inference for certain queries."
   ]
  },
  {
   "cell_type": "code",
   "execution_count": 2,
   "metadata": {},
   "outputs": [],
   "source": [
    "from pgmpy.models import FactorGraph\n",
    "from pgmpy.factors.discrete import DiscreteFactor\n",
    "import numpy as np\n",
    "import networkx as nx\n",
    "import pandas as pd\n",
    "from pgmpy.estimators import MirrorDescentEstimator\n",
    "from pgmpy.inference.ExactInference import BeliefPropagation\n",
    "from pgmpy.factors import FactorDict\n",
    "from matplotlib import pyplot as plt"
   ]
  },
  {
   "cell_type": "markdown",
   "metadata": {},
   "source": [
    "### Step 1: Load the `games` data and form a `FactorGraph`"
   ]
  },
  {
   "cell_type": "code",
   "execution_count": 3,
   "metadata": {},
   "outputs": [
    {
     "data": {
      "text/html": [
       "<div>\n",
       "<style scoped>\n",
       "    .dataframe tbody tr th:only-of-type {\n",
       "        vertical-align: middle;\n",
       "    }\n",
       "\n",
       "    .dataframe tbody tr th {\n",
       "        vertical-align: top;\n",
       "    }\n",
       "\n",
       "    .dataframe thead th {\n",
       "        text-align: right;\n",
       "    }\n",
       "</style>\n",
       "<table border=\"1\" class=\"dataframe\">\n",
       "  <thead>\n",
       "    <tr style=\"text-align: right;\">\n",
       "      <th></th>\n",
       "      <th>homeTeamAbbr</th>\n",
       "      <th>visitorTeamAbbr</th>\n",
       "      <th>homeWin</th>\n",
       "    </tr>\n",
       "  </thead>\n",
       "  <tbody>\n",
       "    <tr>\n",
       "      <th>0</th>\n",
       "      <td>KC</td>\n",
       "      <td>DET</td>\n",
       "      <td>loss</td>\n",
       "    </tr>\n",
       "    <tr>\n",
       "      <th>1</th>\n",
       "      <td>MIN</td>\n",
       "      <td>TB</td>\n",
       "      <td>loss</td>\n",
       "    </tr>\n",
       "    <tr>\n",
       "      <th>2</th>\n",
       "      <td>NO</td>\n",
       "      <td>TEN</td>\n",
       "      <td>win</td>\n",
       "    </tr>\n",
       "    <tr>\n",
       "      <th>3</th>\n",
       "      <td>ATL</td>\n",
       "      <td>CAR</td>\n",
       "      <td>win</td>\n",
       "    </tr>\n",
       "    <tr>\n",
       "      <th>4</th>\n",
       "      <td>BAL</td>\n",
       "      <td>HOU</td>\n",
       "      <td>win</td>\n",
       "    </tr>\n",
       "  </tbody>\n",
       "</table>\n",
       "</div>"
      ],
      "text/plain": [
       "  homeTeamAbbr visitorTeamAbbr homeWin\n",
       "0           KC             DET    loss\n",
       "1          MIN              TB    loss\n",
       "2           NO             TEN     win\n",
       "3          ATL             CAR     win\n",
       "4          BAL             HOU     win"
      ]
     },
     "execution_count": 3,
     "metadata": {},
     "output_type": "execute_result"
    }
   ],
   "source": [
    "games = pd.read_csv(\"games.csv\")\n",
    "# Define a \"win\" to include ties for the home team.\n",
    "games[\"homeWin\"] = (games.homeFinalScore >= games.visitorFinalScore).map(\n",
    "    lambda x: \"win\" if x else \"loss\"\n",
    ")\n",
    "TEAMS = sorted(set(games.homeTeamAbbr).union(set(games.visitorTeamAbbr)))\n",
    "df = games[[\"homeTeamAbbr\", \"visitorTeamAbbr\", \"homeWin\"]]\n",
    "df.head()"
   ]
  },
  {
   "cell_type": "code",
   "execution_count": 4,
   "metadata": {},
   "outputs": [],
   "source": [
    "G = FactorGraph()\n",
    "nodes = [\"homeTeamAbbr\", \"visitorTeamAbbr\", \"homeWin\"]\n",
    "state_names = {\n",
    "    \"homeTeamAbbr\": TEAMS,\n",
    "    \"visitorTeamAbbr\": TEAMS,\n",
    "    \"homeWin\": [\"loss\", \"win\"],\n",
    "}\n",
    "factors = [\n",
    "    # One-way marginals.\n",
    "    DiscreteFactor(\n",
    "        variables=[\"homeTeamAbbr\"],\n",
    "        cardinality=[32],\n",
    "        values=np.zeros(32),\n",
    "        state_names=state_names,\n",
    "    ),\n",
    "    DiscreteFactor(\n",
    "        variables=[\"visitorTeamAbbr\"],\n",
    "        cardinality=[32],\n",
    "        values=np.zeros(32),\n",
    "        state_names=state_names,\n",
    "    ),\n",
    "    DiscreteFactor(\n",
    "        variables=[\"homeWin\"],\n",
    "        cardinality=[2],\n",
    "        values=np.zeros(2),\n",
    "        state_names=state_names,\n",
    "    ),\n",
    "    # Two-way marginals.\n",
    "    DiscreteFactor(\n",
    "        variables=[\"homeTeamAbbr\", \"homeWin\"],\n",
    "        cardinality=[32, 2],\n",
    "        values=np.zeros((32, 2)),\n",
    "        state_names=state_names,\n",
    "    ),\n",
    "    DiscreteFactor(\n",
    "        variables=[\"visitorTeamAbbr\", \"homeWin\"],\n",
    "        cardinality=[32, 2],\n",
    "        values=np.zeros((32, 2)),\n",
    "        state_names=state_names,\n",
    "    ),\n",
    "    DiscreteFactor(\n",
    "        variables=[\"visitorTeamAbbr\", \"homeTeamAbbr\"],\n",
    "        cardinality=[32, 32],\n",
    "        values=np.zeros((32, 32)),\n",
    "        state_names=state_names,\n",
    "    ),\n",
    "    # Three-way marginal.\n",
    "    DiscreteFactor(\n",
    "        variables=[\"homeTeamAbbr\", \"visitorTeamAbbr\", \"homeWin\"],\n",
    "        cardinality=[32, 32, 2],\n",
    "        values=np.zeros((32, 32, 2)),\n",
    "        state_names=state_names,\n",
    "    ),\n",
    "]\n",
    "G.add_nodes_from(nodes=nodes)\n",
    "G.add_factors(*factors)\n",
    "G.add_edges_from(\n",
    "    [(node, factor) for node in nodes for factor in factors if node in factor.scope()]\n",
    ")"
   ]
  },
  {
   "cell_type": "code",
   "execution_count": 5,
   "metadata": {},
   "outputs": [
    {
     "data": {
      "text/plain": [
       "True"
      ]
     },
     "execution_count": 5,
     "metadata": {},
     "output_type": "execute_result"
    }
   ],
   "source": [
    "G.check_model()"
   ]
  },
  {
   "cell_type": "code",
   "execution_count": 6,
   "metadata": {},
   "outputs": [
    {
     "data": {
      "image/png": "[encoded data removed]",
      "text/plain": [
       "<Figure size 1000x300 with 1 Axes>"
      ]
     },
     "metadata": {},
     "output_type": "display_data"
    }
   ],
   "source": [
    "# Print the structure of the Graph to verify its correctness.\n",
    "\n",
    "plt.figure(figsize=(10, 3))\n",
    "top = {team: (i * 2, 0) for i, team in enumerate(sorted(nodes))}\n",
    "bottom = {factor: (i, 1) for i, factor in enumerate(factors)}\n",
    "# Draw all the variables & factors with their edges.\n",
    "nx.draw(\n",
    "    G,\n",
    "    pos={**top, **bottom},\n",
    "    edge_color=\"red\",\n",
    ")\n",
    "# Draw text labels for the factors above their nodes in the graph.\n",
    "label_dict = {factor: \"\\n\".join(factor.scope()) for factor in G.factors}\n",
    "for node, (x, y) in bottom.items():\n",
    "    plt.text(x, y * 1.1, label_dict[node], fontsize=10, ha=\"center\", va=\"center\")\n",
    "# Re-draw the variables but with labels this time and colored orange.\n",
    "nx.draw(\n",
    "    G.subgraph(nodes),\n",
    "    node_color=\"orange\",\n",
    "    pos={**top},\n",
    "    with_labels=True,\n",
    ")\n",
    "plt.show()"
   ]
  },
  {
   "cell_type": "markdown",
   "metadata": {},
   "source": [
    "### Step 2: Define a model using `MirrorDescentEstimator`"
   ]
  },
  {
   "cell_type": "code",
   "execution_count": 7,
   "metadata": {},
   "outputs": [],
   "source": [
    "# Initialize model\n",
    "estimator = MirrorDescentEstimator(model=G, data=games)\n",
    "marginals = [tuple(i.scope()) for i in G.factors]\n",
    "observed_factor_dict = FactorDict.from_dataframe(df=games, marginals=marginals)"
   ]
  },
  {
   "cell_type": "markdown",
   "metadata": {},
   "source": [
    "### Step 3: Learn the marginals "
   ]
  },
  {
   "cell_type": "code",
   "execution_count": 8,
   "metadata": {},
   "outputs": [
    {
     "data": {
      "application/vnd.jupyter.widget-view+json": {
       "model_id": "e9cf2b41f35049b0b8e6c70e285cf9d7",
       "version_major": 2,
       "version_minor": 0
      },
      "text/plain": [
       "  0%|          | 0/30000 [00:00<?, ?it/s]"
      ]
     },
     "metadata": {},
     "output_type": "display_data"
    },
    {
     "name": "stdout",
     "output_type": "stream",
     "text": [
      "CPU times: user 19.2 s, sys: 3.12 s, total: 22.3 s\n",
      "Wall time: 22.1 s\n"
     ]
    }
   ],
   "source": [
    "%%time\n",
    "_ = estimator.estimate(\n",
    "    marginals=marginals, metric=\"L2\", iterations=30_000, potential_min=1e-6\n",
    ")"
   ]
  },
  {
   "cell_type": "markdown",
   "metadata": {},
   "source": [
    "### Step 4: View the true marginals against estimated marginals"
   ]
  },
  {
   "cell_type": "code",
   "execution_count": 9,
   "metadata": {},
   "outputs": [],
   "source": [
    "tree = estimator.belief_propagation.junction_tree\n",
    "modeled_factor = tree.factors[0]"
   ]
  },
  {
   "cell_type": "code",
   "execution_count": 10,
   "metadata": {},
   "outputs": [
    {
     "name": "stdout",
     "output_type": "stream",
     "text": [
      "Observed\n",
      "+---------------+----------------+\n",
      "| homeWin       |   phi(homeWin) |\n",
      "+===============+================+\n",
      "| homeWin(loss) |       123.0000 |\n",
      "+---------------+----------------+\n",
      "| homeWin(win)  |       159.0000 |\n",
      "+---------------+----------------+\n",
      "\n",
      "Modeled\n",
      "+---------------+----------------+\n",
      "| homeWin       |   phi(homeWin) |\n",
      "+===============+================+\n",
      "| homeWin(loss) |       123.0520 |\n",
      "+---------------+----------------+\n",
      "| homeWin(win)  |       159.0270 |\n",
      "+---------------+----------------+\n"
     ]
    }
   ],
   "source": [
    "# Compare a one-way marginal against a modeled clique.\n",
    "print(\"Observed\")\n",
    "print(observed_factor_dict[(\"homeWin\",)])\n",
    "print(\"\\nModeled\")\n",
    "print(modeled_factor.marginalize([\"homeTeamAbbr\", \"visitorTeamAbbr\"], inplace=False))"
   ]
  },
  {
   "cell_type": "code",
   "execution_count": 11,
   "metadata": {},
   "outputs": [
    {
     "data": {
      "image/png": "[encoded data removed]",
      "text/plain": [
       "<Figure size 1000x200 with 2 Axes>"
      ]
     },
     "metadata": {},
     "output_type": "display_data"
    }
   ],
   "source": [
    "# Compare a larger clique against the true marginals.\n",
    "fig, axes = plt.subplots(nrows=1, ncols=2, figsize=(10, 2))\n",
    "visitorTeamAbbr_homeWin_marginal = observed_factor_dict[(\"visitorTeamAbbr\", \"homeWin\")]\n",
    "total_states = np.prod(visitorTeamAbbr_homeWin_marginal.cardinality)\n",
    "axes[0].bar(\n",
    "    range(total_states),\n",
    "    visitorTeamAbbr_homeWin_marginal.values.flatten(),\n",
    ")\n",
    "axes[0].set_title(\"Observed Marginals\")\n",
    "axes[1].bar(\n",
    "    range(total_states),\n",
    "    modeled_factor.marginalize([\"homeTeamAbbr\"], inplace=False).values.flatten(),\n",
    ")\n",
    "axes[1].set_title(\"Estimated Marginals\")\n",
    "plt.show()"
   ]
  },
  {
   "cell_type": "code",
   "execution_count": 20,
   "metadata": {},
   "outputs": [
    {
     "name": "stdout",
     "output_type": "stream",
     "text": [
      "+---------------+----------------+\n",
      "| homeWin       |   phi(homeWin) |\n",
      "+===============+================+\n",
      "| homeWin(loss) |         0.8858 |\n",
      "+---------------+----------------+\n",
      "| homeWin(win)  |         0.1142 |\n",
      "+---------------+----------------+\n"
     ]
    }
   ],
   "source": [
    "# Out of clique inference for a game that has not yet occured.\n",
    "query_factor = BeliefPropagation(tree).query(\n",
    "    variables=[\"homeWin\"],\n",
    "    evidence={\"homeTeamAbbr\": \"SF\", \"visitorTeamAbbr\": \"BAL\"},\n",
    "    joint=True,\n",
    "    show_progress=True,\n",
    ")\n",
    "print(query_factor)"
   ]
  },
  {
   "cell_type": "code",
   "execution_count": 24,
   "metadata": {},
   "outputs": [
    {
     "name": "stdout",
     "output_type": "stream",
     "text": [
      "Home Loss\n",
      "0.8868637327677624\n",
      "Home Win\n",
      "0.11313626723223753\n"
     ]
    }
   ],
   "source": [
    "# Confirm the query results by sampling.\n",
    "df = modeled_factor.sample(5_000_000)\n",
    "df_query = df.loc[(df.homeTeamAbbr == \"SF\") & (df.visitorTeamAbbr == \"BAL\")]\n",
    "print(\"Home Loss\")\n",
    "print((df_query.homeWin == \"loss\").mean())\n",
    "print(\"Home Win\")\n",
    "print((df_query.homeWin == \"win\").mean())"
   ]
  }
 ],
 "metadata": {
  "kernelspec": {
   "display_name": ".venv",
   "language": "python",
   "name": "python3"
  },
  "language_info": {
   "codemirror_mode": {
    "name": "ipython",
    "version": 3
   },
   "file_extension": ".py",
   "mimetype": "text/x-python",
   "name": "python",
   "nbconvert_exporter": "python",
   "pygments_lexer": "ipython3",
   "version": "3.10.8"
  }
 },
 "nbformat": 4,
 "nbformat_minor": 2
}
