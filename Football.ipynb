{
 "cells": [
  {
   "cell_type": "markdown",
   "metadata": {},
   "source": [
    "# Marginal Learning in Discrete Markov Networks"
   ]
  },
  {
   "cell_type": "markdown",
   "metadata": {},
   "source": [
    "In this notebook, we show an example for learning the parameters (potentials) of a Factor Graph or Markov Network given the data and its corresponding marginals.\n",
    "\n",
    "In the examples, we will generate some data from given models and perform out of clique inference for certain queries."
   ]
  },
  {
   "cell_type": "code",
   "execution_count": 34,
   "metadata": {},
   "outputs": [],
   "source": [
    "from pgmpy.models import FactorGraph\n",
    "from pgmpy.factors.discrete import DiscreteFactor\n",
    "from pgmpy.inference import BeliefPropagation\n",
    "import numpy as np\n",
    "import networkx as nx\n",
    "import pandas as pd\n",
    "from pgmpy.estimators import MirrorDescentEstimator\n",
    "from pgmpy.factors import FactorDict"
   ]
  },
  {
   "cell_type": "markdown",
   "metadata": {},
   "source": [
    "### Step 1: Load the `games` data and form a `FactorGraph`"
   ]
  },
  {
   "cell_type": "code",
   "execution_count": 57,
   "metadata": {},
   "outputs": [
    {
     "data": {
      "text/html": [
       "<div>\n",
       "<style scoped>\n",
       "    .dataframe tbody tr th:only-of-type {\n",
       "        vertical-align: middle;\n",
       "    }\n",
       "\n",
       "    .dataframe tbody tr th {\n",
       "        vertical-align: top;\n",
       "    }\n",
       "\n",
       "    .dataframe thead th {\n",
       "        text-align: right;\n",
       "    }\n",
       "</style>\n",
       "<table border=\"1\" class=\"dataframe\">\n",
       "  <thead>\n",
       "    <tr style=\"text-align: right;\">\n",
       "      <th></th>\n",
       "      <th>homeTeamAbbr</th>\n",
       "      <th>visitorTeamAbbr</th>\n",
       "      <th>homeWin</th>\n",
       "    </tr>\n",
       "  </thead>\n",
       "  <tbody>\n",
       "    <tr>\n",
       "      <th>0</th>\n",
       "      <td>KC</td>\n",
       "      <td>DET</td>\n",
       "      <td>loss</td>\n",
       "    </tr>\n",
       "    <tr>\n",
       "      <th>1</th>\n",
       "      <td>MIN</td>\n",
       "      <td>TB</td>\n",
       "      <td>loss</td>\n",
       "    </tr>\n",
       "    <tr>\n",
       "      <th>2</th>\n",
       "      <td>NO</td>\n",
       "      <td>TEN</td>\n",
       "      <td>win</td>\n",
       "    </tr>\n",
       "    <tr>\n",
       "      <th>3</th>\n",
       "      <td>ATL</td>\n",
       "      <td>CAR</td>\n",
       "      <td>win</td>\n",
       "    </tr>\n",
       "    <tr>\n",
       "      <th>4</th>\n",
       "      <td>BAL</td>\n",
       "      <td>HOU</td>\n",
       "      <td>win</td>\n",
       "    </tr>\n",
       "  </tbody>\n",
       "</table>\n",
       "</div>"
      ],
      "text/plain": [
       "  homeTeamAbbr visitorTeamAbbr homeWin\n",
       "0           KC             DET    loss\n",
       "1          MIN              TB    loss\n",
       "2           NO             TEN     win\n",
       "3          ATL             CAR     win\n",
       "4          BAL             HOU     win"
      ]
     },
     "execution_count": 57,
     "metadata": {},
     "output_type": "execute_result"
    }
   ],
   "source": [
    "games = pd.read_csv(\"games.csv\")\n",
    "# Define a \"win\" to include ties for the home team.\n",
    "games[\"homeWin\"] = (games.homeFinalScore >= games.visitorFinalScore).map(\n",
    "    lambda x: \"win\" if x else \"loss\"\n",
    ")\n",
    "TEAMS = sorted(set(games.homeTeamAbbr).union(set(games.visitorTeamAbbr)))\n",
    "df = games[[\"homeTeamAbbr\", \"visitorTeamAbbr\", \"homeWin\"]]\n",
    "df.head()"
   ]
  },
  {
   "cell_type": "code",
   "execution_count": 58,
   "metadata": {},
   "outputs": [],
   "source": [
    "G = FactorGraph()\n",
    "nodes = [\"homeTeamAbbr\", \"visitorTeamAbbr\", \"homeWin\"]\n",
    "state_names = {\n",
    "    \"homeTeamAbbr\": TEAMS,\n",
    "    \"visitorTeamAbbr\": TEAMS,\n",
    "    \"homeWin\": [\"loss\", \"win\"],\n",
    "}\n",
    "factors = [\n",
    "    # One-way marginals.\n",
    "    DiscreteFactor(\n",
    "        variables=[\"homeTeamAbbr\"],\n",
    "        cardinality=[32],\n",
    "        values=np.zeros(32),\n",
    "        state_names=state_names,\n",
    "    ),\n",
    "    DiscreteFactor(\n",
    "        variables=[\"visitorTeamAbbr\"],\n",
    "        cardinality=[32],\n",
    "        values=np.zeros(32),\n",
    "        state_names=state_names,\n",
    "    ),\n",
    "    DiscreteFactor(\n",
    "        variables=[\"homeWin\"],\n",
    "        cardinality=[2],\n",
    "        values=np.zeros(2),\n",
    "        state_names=state_names,\n",
    "    ),\n",
    "    # Two-way marginals.\n",
    "    DiscreteFactor(\n",
    "        variables=[\"homeTeamAbbr\", \"homeWin\"],\n",
    "        cardinality=[32, 2],\n",
    "        values=np.zeros((32, 2)),\n",
    "        state_names=state_names,\n",
    "    ),\n",
    "    DiscreteFactor(\n",
    "        variables=[\"visitorTeamAbbr\", \"homeWin\"],\n",
    "        cardinality=[32, 2],\n",
    "        values=np.zeros((32, 2)),\n",
    "        state_names=state_names,\n",
    "    ),\n",
    "    # Three-way marginal.\n",
    "    DiscreteFactor(\n",
    "        variables=[\"homeTeamAbbr\", \"visitorTeamAbbr\", \"homeWin\"],\n",
    "        cardinality=[32, 32, 2],\n",
    "        values=np.zeros((32, 32, 2)),\n",
    "        state_names=state_names,\n",
    "    ),\n",
    "]\n",
    "G.add_nodes_from(nodes=nodes)\n",
    "G.add_factors(*factors)\n",
    "G.add_edges_from(\n",
    "    [(node, factor) for node in nodes for factor in factors if node in factor.scope()]\n",
    ")"
   ]
  },
  {
   "cell_type": "code",
   "execution_count": 59,
   "metadata": {},
   "outputs": [
    {
     "data": {
      "text/plain": [
       "True"
      ]
     },
     "execution_count": 59,
     "metadata": {},
     "output_type": "execute_result"
    }
   ],
   "source": [
    "G.check_model()"
   ]
  },
  {
   "cell_type": "code",
   "execution_count": 61,
   "metadata": {},
   "outputs": [
    {
     "data": {
      "image/png": "[encoded data removed]",
      "text/plain": [
       "<Figure size 640x480 with 1 Axes>"
      ]
     },
     "metadata": {},
     "output_type": "display_data"
    }
   ],
   "source": [
    "# Print the structure of the Graph to verify its correctness.\n",
    "top = {team: (i * 2, 0) for i, team in enumerate(sorted(nodes))}\n",
    "bottom = {factor: (i, 1) for i, factor in enumerate(factors)}\n",
    "label_dict = {factor: \"\\n\".join(factor.scope()) for factor in G.factors}\n",
    "label_dict.update({node: node for node in nodes})\n",
    "nx.draw(\n",
    "    G,\n",
    "    pos={**top, **bottom},\n",
    "    with_labels=True,\n",
    "    labels=label_dict,\n",
    "    edge_color=\"red\",\n",
    ")\n",
    "nx.draw(\n",
    "    G.subgraph(nodes),\n",
    "    node_color=\"orange\",\n",
    "    pos={**top},\n",
    ")"
   ]
  },
  {
   "cell_type": "markdown",
   "metadata": {},
   "source": [
    "### Step 2: Define a model using `MirrorDescentEstimator`"
   ]
  },
  {
   "cell_type": "code",
   "execution_count": 41,
   "metadata": {},
   "outputs": [],
   "source": [
    "# Initialize model\n",
    "estimator = MirrorDescentEstimator(model=G, data=games)\n",
    "marginals = [tuple(i.scope()) for i in G.factors]\n",
    "observed_factor_dict = FactorDict.from_dataframe(df=games, marginals=marginals)"
   ]
  },
  {
   "cell_type": "markdown",
   "metadata": {},
   "source": [
    "### Step 3: Learn the marginals "
   ]
  },
  {
   "cell_type": "code",
   "execution_count": 42,
   "metadata": {},
   "outputs": [
    {
     "data": {
      "application/vnd.jupyter.widget-view+json": {
       "model_id": "ccd4c41ca1944caca0e17995adf0f3b9",
       "version_major": 2,
       "version_minor": 0
      },
      "text/plain": [
       "  0%|          | 0/30000 [00:00<?, ?it/s]"
      ]
     },
     "metadata": {},
     "output_type": "display_data"
    },
    {
     "name": "stdout",
     "output_type": "stream",
     "text": [
      "CPU times: user 18.4 s, sys: 2.53 s, total: 20.9 s\n",
      "Wall time: 21.4 s\n"
     ]
    }
   ],
   "source": [
    "%%time\n",
    "tree = estimator.estimate(\n",
    "    marginals=marginals, metric=\"L2\", iterations=30_000\n",
    ")\n",
    "modeled_factor = tree.factors[0]"
   ]
  },
  {
   "cell_type": "markdown",
   "metadata": {},
   "source": [
    "### Step 4: View the true marginals against estimated marginals"
   ]
  },
  {
   "cell_type": "code",
   "execution_count": 54,
   "metadata": {},
   "outputs": [
    {
     "name": "stdout",
     "output_type": "stream",
     "text": [
      "Observed\n",
      "+---------------+----------------+\n",
      "| homeWin       |   phi(homeWin) |\n",
      "+===============+================+\n",
      "| homeWin(loss) |       123.0000 |\n",
      "+---------------+----------------+\n",
      "| homeWin(win)  |       159.0000 |\n",
      "+---------------+----------------+\n",
      "Modeled\n",
      "+---------------+----------------+\n",
      "| homeWin       |   phi(homeWin) |\n",
      "+===============+================+\n",
      "| homeWin(loss) |       123.0000 |\n",
      "+---------------+----------------+\n",
      "| homeWin(win)  |       159.0000 |\n",
      "+---------------+----------------+\n"
     ]
    }
   ],
   "source": [
    "# Compare a one-way marginal against a modeled clique.\n",
    "print(\"Observed\")\n",
    "print(observed_factor_dict[(\"homeWin\",)])\n",
    "print(\"Modeled\")\n",
    "print(modeled_factor.marginalize([\"homeTeamAbbr\", \"visitorTeamAbbr\"], inplace=False))"
   ]
  },
  {
   "cell_type": "code",
   "execution_count": 55,
   "metadata": {},
   "outputs": [
    {
     "name": "stdout",
     "output_type": "stream",
     "text": [
      "Observed\n",
      "[2. 7. 2. 7. 7. 1. 4. 4. 0. 9. 2. 7. 3. 5. 3. 6. 4. 5. 3. 5. 6. 3. 5. 6.\n",
      " 4. 5. 5. 3. 5. 3. 7. 2. 3. 5. 5. 5. 2. 6. 4. 5. 5. 4. 3. 5. 4. 5. 2. 7.\n",
      " 3. 5. 5. 5. 5. 4. 4. 5. 7. 2. 5. 5. 1. 7. 3. 6.]\n",
      "Modeled\n",
      "[2.0000000e+00 7.0000000e+00 2.0000000e+00 7.0000000e+00 7.0000000e+00\n",
      " 1.0000000e+00 4.0000000e+00 4.0000000e+00 5.9924031e-11 9.0000000e+00\n",
      " 2.0000000e+00 7.0000000e+00 3.0000000e+00 5.0000000e+00 3.0000000e+00\n",
      " 6.0000000e+00 4.0000000e+00 5.0000000e+00 3.0000000e+00 5.0000000e+00\n",
      " 6.0000000e+00 3.0000000e+00 5.0000000e+00 6.0000000e+00 4.0000000e+00\n",
      " 5.0000000e+00 5.0000000e+00 3.0000000e+00 5.0000000e+00 3.0000000e+00\n",
      " 7.0000000e+00 2.0000000e+00 3.0000000e+00 5.0000000e+00 5.0000000e+00\n",
      " 5.0000000e+00 2.0000000e+00 6.0000000e+00 4.0000000e+00 5.0000000e+00\n",
      " 5.0000000e+00 4.0000000e+00 3.0000000e+00 5.0000000e+00 4.0000000e+00\n",
      " 5.0000000e+00 2.0000000e+00 7.0000000e+00 3.0000000e+00 5.0000000e+00\n",
      " 5.0000000e+00 5.0000000e+00 5.0000000e+00 4.0000000e+00 4.0000000e+00\n",
      " 5.0000000e+00 7.0000000e+00 2.0000000e+00 5.0000000e+00 5.0000000e+00\n",
      " 1.0000000e+00 7.0000000e+00 3.0000000e+00 6.0000000e+00]\n"
     ]
    }
   ],
   "source": [
    "# Compare a larger clique against the true marginals.\n",
    "print(\"Observed\")\n",
    "print(observed_factor_dict[(\"visitorTeamAbbr\", \"homeWin\")].values.flatten())\n",
    "print(\"Modeled\")\n",
    "print(modeled_factor.marginalize([\"homeTeamAbbr\"], inplace=False).values.flatten())"
   ]
  },
  {
   "cell_type": "code",
   "execution_count": 49,
   "metadata": {},
   "outputs": [
    {
     "name": "stdout",
     "output_type": "stream",
     "text": [
      "+---------------+----------------+\n",
      "| homeWin       |   phi(homeWin) |\n",
      "+===============+================+\n",
      "| homeWin(loss) |         0.4524 |\n",
      "+---------------+----------------+\n",
      "| homeWin(win)  |         0.5476 |\n",
      "+---------------+----------------+\n"
     ]
    }
   ],
   "source": [
    "# Out of clique inference for a game that has not yet occured.\n",
    "query_factor = BeliefPropagation(tree).query(\n",
    "    variables=[\"homeWin\"],\n",
    "    evidence={\"homeTeamAbbr\": \"DAL\", \"visitorTeamAbbr\": \"SF\"},\n",
    "    joint=True,\n",
    "    show_progress=True,\n",
    ")\n",
    "print(query_factor)"
   ]
  }
 ],
 "metadata": {
  "kernelspec": {
   "display_name": ".venv",
   "language": "python",
   "name": "python3"
  },
  "language_info": {
   "codemirror_mode": {
    "name": "ipython",
    "version": 3
   },
   "file_extension": ".py",
   "mimetype": "text/x-python",
   "name": "python",
   "nbconvert_exporter": "python",
   "pygments_lexer": "ipython3",
   "version": "3.10.8"
  }
 },
 "nbformat": 4,
 "nbformat_minor": 2
}
