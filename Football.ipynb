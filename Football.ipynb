{
 "cells": [
  {
   "cell_type": "markdown",
   "metadata": {},
   "source": [
    "# Marginal Learning in Discrete Markov Networks"
   ]
  },
  {
   "cell_type": "markdown",
   "metadata": {},
   "source": [
    "In this notebook, we show an example for learning the parameters (potentials) of a Factor Graph or Markov Network given the data and its corresponding marginals.\n",
    "\n",
    "In the examples, we will generate some data from given models and perform out of clique inference for certain queries."
   ]
  },
  {
   "cell_type": "code",
   "execution_count": 1,
   "metadata": {},
   "outputs": [],
   "source": [
    "%load_ext autoreload\n",
    "%autoreload 2"
   ]
  },
  {
   "cell_type": "markdown",
   "metadata": {},
   "source": [
    "## Modeling who wins a Football game"
   ]
  },
  {
   "cell_type": "code",
   "execution_count": 96,
   "metadata": {},
   "outputs": [],
   "source": [
    "from pgmpy.models import FactorGraph, JunctionTree\n",
    "from pgmpy.factors.discrete import DiscreteFactor\n",
    "import numpy as np\n",
    "import networkx as nx\n",
    "import pandas as pd\n",
    "import itertools\n",
    "from pgmpy.estimators import MirrorDescentEstimator\n",
    "from pgmpy.inference.ExactInference import BeliefPropagation\n",
    "from pgmpy.factors import FactorDict\n",
    "from matplotlib import pyplot as plt"
   ]
  },
  {
   "cell_type": "markdown",
   "metadata": {},
   "source": [
    "### Step 1: Load the `games` data and form a `FactorGraph`"
   ]
  },
  {
   "cell_type": "code",
   "execution_count": 2,
   "metadata": {},
   "outputs": [
    {
     "data": {
      "text/html": [
       "<div>\n",
       "<style scoped>\n",
       "    .dataframe tbody tr th:only-of-type {\n",
       "        vertical-align: middle;\n",
       "    }\n",
       "\n",
       "    .dataframe tbody tr th {\n",
       "        vertical-align: top;\n",
       "    }\n",
       "\n",
       "    .dataframe thead th {\n",
       "        text-align: right;\n",
       "    }\n",
       "</style>\n",
       "<table border=\"1\" class=\"dataframe\">\n",
       "  <thead>\n",
       "    <tr style=\"text-align: right;\">\n",
       "      <th></th>\n",
       "      <th>homeTeamAbbr</th>\n",
       "      <th>visitorTeamAbbr</th>\n",
       "      <th>homeWin</th>\n",
       "    </tr>\n",
       "  </thead>\n",
       "  <tbody>\n",
       "    <tr>\n",
       "      <th>0</th>\n",
       "      <td>KC</td>\n",
       "      <td>DET</td>\n",
       "      <td>loss</td>\n",
       "    </tr>\n",
       "    <tr>\n",
       "      <th>1</th>\n",
       "      <td>MIN</td>\n",
       "      <td>TB</td>\n",
       "      <td>loss</td>\n",
       "    </tr>\n",
       "    <tr>\n",
       "      <th>2</th>\n",
       "      <td>NO</td>\n",
       "      <td>TEN</td>\n",
       "      <td>win</td>\n",
       "    </tr>\n",
       "    <tr>\n",
       "      <th>3</th>\n",
       "      <td>ATL</td>\n",
       "      <td>CAR</td>\n",
       "      <td>win</td>\n",
       "    </tr>\n",
       "    <tr>\n",
       "      <th>4</th>\n",
       "      <td>BAL</td>\n",
       "      <td>HOU</td>\n",
       "      <td>win</td>\n",
       "    </tr>\n",
       "  </tbody>\n",
       "</table>\n",
       "</div>"
      ],
      "text/plain": [
       "  homeTeamAbbr visitorTeamAbbr homeWin\n",
       "0           KC             DET    loss\n",
       "1          MIN              TB    loss\n",
       "2           NO             TEN     win\n",
       "3          ATL             CAR     win\n",
       "4          BAL             HOU     win"
      ]
     },
     "execution_count": 2,
     "metadata": {},
     "output_type": "execute_result"
    }
   ],
   "source": [
    "games = pd.read_csv(\"games.csv\")\n",
    "# Define a \"win\" to include ties for the home team.\n",
    "games[\"homeWin\"] = (games.homeFinalScore >= games.visitorFinalScore).map(\n",
    "    lambda x: \"win\" if x else \"loss\"\n",
    ")\n",
    "TEAMS = sorted(set(games.homeTeamAbbr).union(set(games.visitorTeamAbbr)))\n",
    "COLUMNS = [\"homeTeamAbbr\", \"visitorTeamAbbr\", \"homeWin\"]\n",
    "MAX_SCORE = max(set(games.homeFinalScore).union(games.visitorFinalScore))\n",
    "df = games[COLUMNS]\n",
    "df.head()"
   ]
  },
  {
   "cell_type": "code",
   "execution_count": 3,
   "metadata": {},
   "outputs": [
    {
     "data": {
      "text/plain": [
       "True"
      ]
     },
     "execution_count": 3,
     "metadata": {},
     "output_type": "execute_result"
    }
   ],
   "source": [
    "G = FactorGraph()\n",
    "nodes = COLUMNS\n",
    "state_names = {\n",
    "    \"homeTeamAbbr\": TEAMS,\n",
    "    \"visitorTeamAbbr\": TEAMS,\n",
    "}\n",
    "cardinalities = {\"homeTeamAbbr\": 32, \"visitorTeamAbbr\": 32, \"homeWin\": 2}\n",
    "factors = [\n",
    "    DiscreteFactor(\n",
    "        variables=i,\n",
    "        cardinality=[cardinalities[j] for j in i],\n",
    "        values=np.zeros(tuple(cardinalities[j] for j in i)),\n",
    "        state_names=state_names,\n",
    "    )\n",
    "    for i in list(\n",
    "        itertools.chain.from_iterable(\n",
    "            [list(itertools.combinations(COLUMNS, i)) for i in range(1, 4)]\n",
    "        )\n",
    "    )\n",
    "]\n",
    "G.add_nodes_from(nodes=nodes)\n",
    "G.add_factors(*factors)\n",
    "G.add_edges_from(\n",
    "    [(node, factor) for node in nodes for factor in factors if node in factor.scope()]\n",
    ")\n",
    "G.check_model()"
   ]
  },
  {
   "cell_type": "code",
   "execution_count": 4,
   "metadata": {},
   "outputs": [
    {
     "data": {
      "image/png": "[encoded data removed]",
      "text/plain": [
       "<Figure size 1000x300 with 1 Axes>"
      ]
     },
     "metadata": {},
     "output_type": "display_data"
    }
   ],
   "source": [
    "# Print the structure of the Graph to verify its correctness.\n",
    "plt.figure(figsize=(10, 3))\n",
    "top = {team: (i * 2, 0) for i, team in enumerate(sorted(nodes))}\n",
    "bottom = {factor: (i, 1) for i, factor in enumerate(factors)}\n",
    "# Draw all the variables & factors with their edges.\n",
    "nx.draw(\n",
    "    G,\n",
    "    pos={**top, **bottom},\n",
    "    edge_color=\"red\",\n",
    ")\n",
    "# Draw text labels for the factors above their nodes in the graph.\n",
    "label_dict = {factor: \"{\" + \",\\n\".join(factor.scope()) + \"}\" for factor in G.factors}\n",
    "for node, (x, y) in bottom.items():\n",
    "    plt.text(x, y * 1.2, label_dict[node], fontsize=10, ha=\"center\", va=\"center\")\n",
    "# Re-draw the variables but with labels this time and colored orange.\n",
    "nx.draw(\n",
    "    G.subgraph(nodes),\n",
    "    node_color=\"orange\",\n",
    "    pos={**top},\n",
    "    with_labels=True,\n",
    ")\n",
    "plt.show()"
   ]
  },
  {
   "cell_type": "markdown",
   "metadata": {},
   "source": [
    "### Step 2: Define a model using `MirrorDescentEstimator`"
   ]
  },
  {
   "cell_type": "code",
   "execution_count": 5,
   "metadata": {},
   "outputs": [],
   "source": [
    "# Initialize model\n",
    "estimator = MirrorDescentEstimator(model=G, data=games)\n",
    "marginals = [tuple(i.scope()) for i in G.factors]\n",
    "observed_factor_dict = FactorDict.from_dataframe(df=games, marginals=marginals)"
   ]
  },
  {
   "cell_type": "markdown",
   "metadata": {},
   "source": [
    "### Step 3: Learn the marginals "
   ]
  },
  {
   "cell_type": "code",
   "execution_count": 6,
   "metadata": {},
   "outputs": [
    {
     "data": {
      "application/vnd.jupyter.widget-view+json": {
       "model_id": "efead545e34d4085968c4a84915f5fc3",
       "version_major": 2,
       "version_minor": 0
      },
      "text/plain": [
       "  0%|          | 0/1000 [00:00<?, ?it/s]"
      ]
     },
     "metadata": {},
     "output_type": "display_data"
    },
    {
     "name": "stdout",
     "output_type": "stream",
     "text": [
      "CPU times: user 1.22 s, sys: 193 ms, total: 1.41 s\n",
      "Wall time: 1.39 s\n"
     ]
    }
   ],
   "source": [
    "%%time\n",
    "_ = estimator.estimate(\n",
    "    marginals=marginals, metric=\"L2\", iterations=1000, min_belief=1e-12\n",
    ")"
   ]
  },
  {
   "cell_type": "markdown",
   "metadata": {},
   "source": [
    "### Step 4: View the true marginals against estimated marginals"
   ]
  },
  {
   "cell_type": "code",
   "execution_count": 7,
   "metadata": {},
   "outputs": [],
   "source": [
    "tree = estimator.belief_propagation.junction_tree\n",
    "modeled_factor = tree.factors[0]"
   ]
  },
  {
   "cell_type": "code",
   "execution_count": 8,
   "metadata": {},
   "outputs": [
    {
     "name": "stdout",
     "output_type": "stream",
     "text": [
      "Observed\n",
      "+---------------+----------------+\n",
      "| homeWin       |   phi(homeWin) |\n",
      "+===============+================+\n",
      "| homeWin(loss) |       123.0000 |\n",
      "+---------------+----------------+\n",
      "| homeWin(win)  |       159.0000 |\n",
      "+---------------+----------------+\n",
      "\n",
      "Modeled\n",
      "+------------+----------------+\n",
      "| homeWin    |   phi(homeWin) |\n",
      "+============+================+\n",
      "| homeWin(0) |       122.9930 |\n",
      "+------------+----------------+\n",
      "| homeWin(1) |       158.8818 |\n",
      "+------------+----------------+\n"
     ]
    }
   ],
   "source": [
    "# Compare a one-way marginal against a modeled clique.\n",
    "print(\"Observed\")\n",
    "print(observed_factor_dict[(\"homeWin\",)])\n",
    "print(\"\\nModeled\")\n",
    "print(modeled_factor.marginalize([\"homeTeamAbbr\", \"visitorTeamAbbr\"], inplace=False))"
   ]
  },
  {
   "cell_type": "code",
   "execution_count": 9,
   "metadata": {},
   "outputs": [
    {
     "data": {
      "image/png": "[encoded data removed]",
      "text/plain": [
       "<Figure size 1000x200 with 2 Axes>"
      ]
     },
     "metadata": {},
     "output_type": "display_data"
    }
   ],
   "source": [
    "# Compare a larger clique against the true marginals.\n",
    "fig, axes = plt.subplots(nrows=1, ncols=2, figsize=(10, 2))\n",
    "visitorTeamAbbr_marginal = observed_factor_dict[(\"visitorTeamAbbr\",)]\n",
    "total_states = np.prod(visitorTeamAbbr_marginal.cardinality)\n",
    "axes[0].bar(\n",
    "    range(total_states),\n",
    "    visitorTeamAbbr_marginal.values.flatten(),\n",
    ")\n",
    "axes[0].set_title(\"Observed Marginals\")\n",
    "axes[1].bar(\n",
    "    range(total_states),\n",
    "    modeled_factor.marginalize(\n",
    "        [\"homeTeamAbbr\", \"homeWin\"], inplace=False\n",
    "    ).values.flatten(),\n",
    ")\n",
    "axes[1].set_title(\"Estimated Marginals\")\n",
    "plt.show()"
   ]
  },
  {
   "cell_type": "code",
   "execution_count": 10,
   "metadata": {},
   "outputs": [
    {
     "name": "stdout",
     "output_type": "stream",
     "text": [
      "Estimated marginal value\n",
      "+------------+----------------+\n",
      "| homeWin    |   phi(homeWin) |\n",
      "+============+================+\n",
      "| homeWin(0) |         0.0322 |\n",
      "+------------+----------------+\n",
      "| homeWin(1) |         0.9678 |\n",
      "+------------+----------------+\n"
     ]
    }
   ],
   "source": [
    "# Inference for a hypothetical game.\n",
    "print(\"Estimated marginal value\")\n",
    "query_factor = BeliefPropagation(tree).query(\n",
    "    variables=[\"homeWin\"],\n",
    "    evidence={\"homeTeamAbbr\": \"PHI\", \"visitorTeamAbbr\": \"DAL\"},\n",
    "    joint=True,\n",
    "    show_progress=True,\n",
    ")\n",
    "print(query_factor)"
   ]
  },
  {
   "cell_type": "markdown",
   "metadata": {},
   "source": [
    "# Modeling the home & visitor scores"
   ]
  },
  {
   "cell_type": "code",
   "execution_count": 118,
   "metadata": {},
   "outputs": [
    {
     "data": {
      "text/html": [
       "<div>\n",
       "<style scoped>\n",
       "    .dataframe tbody tr th:only-of-type {\n",
       "        vertical-align: middle;\n",
       "    }\n",
       "\n",
       "    .dataframe tbody tr th {\n",
       "        vertical-align: top;\n",
       "    }\n",
       "\n",
       "    .dataframe thead th {\n",
       "        text-align: right;\n",
       "    }\n",
       "</style>\n",
       "<table border=\"1\" class=\"dataframe\">\n",
       "  <thead>\n",
       "    <tr style=\"text-align: right;\">\n",
       "      <th></th>\n",
       "      <th>homeTeamAbbr</th>\n",
       "      <th>visitorTeamAbbr</th>\n",
       "      <th>homeFinalScore</th>\n",
       "      <th>visitorFinalScore</th>\n",
       "    </tr>\n",
       "  </thead>\n",
       "  <tbody>\n",
       "    <tr>\n",
       "      <th>0</th>\n",
       "      <td>KC</td>\n",
       "      <td>DET</td>\n",
       "      <td>20</td>\n",
       "      <td>21</td>\n",
       "    </tr>\n",
       "    <tr>\n",
       "      <th>1</th>\n",
       "      <td>MIN</td>\n",
       "      <td>TB</td>\n",
       "      <td>17</td>\n",
       "      <td>20</td>\n",
       "    </tr>\n",
       "    <tr>\n",
       "      <th>2</th>\n",
       "      <td>NO</td>\n",
       "      <td>TEN</td>\n",
       "      <td>16</td>\n",
       "      <td>15</td>\n",
       "    </tr>\n",
       "    <tr>\n",
       "      <th>3</th>\n",
       "      <td>ATL</td>\n",
       "      <td>CAR</td>\n",
       "      <td>24</td>\n",
       "      <td>10</td>\n",
       "    </tr>\n",
       "    <tr>\n",
       "      <th>4</th>\n",
       "      <td>BAL</td>\n",
       "      <td>HOU</td>\n",
       "      <td>25</td>\n",
       "      <td>9</td>\n",
       "    </tr>\n",
       "  </tbody>\n",
       "</table>\n",
       "</div>"
      ],
      "text/plain": [
       "  homeTeamAbbr visitorTeamAbbr  homeFinalScore  visitorFinalScore\n",
       "0           KC             DET              20                 21\n",
       "1          MIN              TB              17                 20\n",
       "2           NO             TEN              16                 15\n",
       "3          ATL             CAR              24                 10\n",
       "4          BAL             HOU              25                  9"
      ]
     },
     "execution_count": 118,
     "metadata": {},
     "output_type": "execute_result"
    }
   ],
   "source": [
    "COLUMNS_2 = [\"homeTeamAbbr\", \"visitorTeamAbbr\", \"homeFinalScore\", \"visitorFinalScore\"]\n",
    "df2 = games[COLUMNS_2]\n",
    "\n",
    "df2.head()"
   ]
  },
  {
   "cell_type": "code",
   "execution_count": 119,
   "metadata": {},
   "outputs": [
    {
     "data": {
      "text/plain": [
       "[('homeTeamAbbr',),\n",
       " ('visitorTeamAbbr',),\n",
       " ('homeFinalScore',),\n",
       " ('visitorFinalScore',),\n",
       " ('homeTeamAbbr', 'visitorTeamAbbr'),\n",
       " ('homeTeamAbbr', 'homeFinalScore'),\n",
       " ('homeTeamAbbr', 'visitorFinalScore'),\n",
       " ('visitorTeamAbbr', 'homeFinalScore'),\n",
       " ('visitorTeamAbbr', 'visitorFinalScore'),\n",
       " ('homeFinalScore', 'visitorFinalScore'),\n",
       " ('homeTeamAbbr', 'visitorTeamAbbr', 'homeFinalScore'),\n",
       " ('homeTeamAbbr', 'visitorTeamAbbr', 'visitorFinalScore'),\n",
       " ('homeTeamAbbr', 'homeFinalScore', 'visitorFinalScore'),\n",
       " ('visitorTeamAbbr', 'homeFinalScore', 'visitorFinalScore'),\n",
       " ('homeTeamAbbr', 'visitorTeamAbbr', 'homeFinalScore', 'visitorFinalScore')]"
      ]
     },
     "execution_count": 119,
     "metadata": {},
     "output_type": "execute_result"
    }
   ],
   "source": [
    "# This time, more marginals are possible.\n",
    "marginals_2 = list(\n",
    "    itertools.chain.from_iterable(\n",
    "        [list(itertools.combinations(COLUMNS_2, i)) for i in range(1, 5)]\n",
    "    )\n",
    ")\n",
    "marginals_2"
   ]
  },
  {
   "cell_type": "code",
   "execution_count": 123,
   "metadata": {},
   "outputs": [
    {
     "data": {
      "text/plain": [
       "True"
      ]
     },
     "execution_count": 123,
     "metadata": {},
     "output_type": "execute_result"
    }
   ],
   "source": [
    "# Instead of creating our graph from every possible combination, we can build\n",
    "# directly from the dataframe, and then setting each factor equal to 0.0.\n",
    "G_2 = JunctionTree()\n",
    "nodes = COLUMNS_2\n",
    "observed_factor_dict = FactorDict.from_dataframe(\n",
    "    games,\n",
    "    marginals=marginals_2,\n",
    ")\n",
    "factors_2 = observed_factor_dict = [\n",
    "    i.identity_factor() * 0.0 for i in observed_factor_dict.values()\n",
    "]\n",
    "G_2.add_node(node=COLUMNS_2)\n",
    "G_2.add_factors(observed_factor_dict[-1])\n",
    "G_2.check_model()"
   ]
  },
  {
   "cell_type": "code",
   "execution_count": 124,
   "metadata": {},
   "outputs": [
    {
     "name": "stdout",
     "output_type": "stream",
     "text": [
      "[('homeTeamAbbr', 'visitorTeamAbbr', 'homeFinalScore', 'visitorFinalScore')]\n",
      "[<DiscreteFactor representing phi(homeTeamAbbr:32, visitorTeamAbbr:32, homeFinalScore:45, visitorFinalScore:40) at 0x2f38f47c0>]\n"
     ]
    }
   ],
   "source": [
    "print(G_2.nodes)\n",
    "print(G_2.factors)"
   ]
  },
  {
   "cell_type": "code",
   "execution_count": 125,
   "metadata": {},
   "outputs": [],
   "source": [
    "# Initialize model\n",
    "estimator_2 = MirrorDescentEstimator(model=G_2, data=games)"
   ]
  },
  {
   "cell_type": "code",
   "execution_count": 126,
   "metadata": {},
   "outputs": [
    {
     "data": {
      "application/vnd.jupyter.widget-view+json": {
       "model_id": "3e4e2442673244b7bddfe7b80596b276",
       "version_major": 2,
       "version_minor": 0
      },
      "text/plain": [
       "  0%|          | 0/300 [00:00<?, ?it/s]"
      ]
     },
     "metadata": {},
     "output_type": "display_data"
    },
    {
     "name": "stdout",
     "output_type": "stream",
     "text": [
      "CPU times: user 33.7 s, sys: 37.8 s, total: 1min 11s\n",
      "Wall time: 1min 12s\n"
     ]
    }
   ],
   "source": [
    "%%time\n",
    "_ = estimator_2.estimate(\n",
    "    marginals=marginals_2, metric=\"L2\", iterations=300, min_belief=1e-9\n",
    ")"
   ]
  },
  {
   "cell_type": "code",
   "execution_count": 127,
   "metadata": {},
   "outputs": [],
   "source": [
    "tree_2 = estimator_2.belief_propagation.junction_tree\n",
    "modeled_factor_2 = tree_2.factors[0]"
   ]
  },
  {
   "cell_type": "code",
   "execution_count": null,
   "metadata": {},
   "outputs": [],
   "source": [
    "df3 = modeled_factor_2.sample(n=5_000_000)"
   ]
  },
  {
   "cell_type": "code",
   "execution_count": 133,
   "metadata": {},
   "outputs": [
    {
     "data": {
      "text/html": [
       "<div>\n",
       "<style scoped>\n",
       "    .dataframe tbody tr th:only-of-type {\n",
       "        vertical-align: middle;\n",
       "    }\n",
       "\n",
       "    .dataframe tbody tr th {\n",
       "        vertical-align: top;\n",
       "    }\n",
       "\n",
       "    .dataframe thead th {\n",
       "        text-align: right;\n",
       "    }\n",
       "</style>\n",
       "<table border=\"1\" class=\"dataframe\">\n",
       "  <thead>\n",
       "    <tr style=\"text-align: right;\">\n",
       "      <th></th>\n",
       "      <th>homeTeamAbbr</th>\n",
       "      <th>visitorTeamAbbr</th>\n",
       "      <th>homeFinalScore</th>\n",
       "      <th>visitorFinalScore</th>\n",
       "    </tr>\n",
       "  </thead>\n",
       "  <tbody>\n",
       "    <tr>\n",
       "      <th>0</th>\n",
       "      <td>SF</td>\n",
       "      <td>DET</td>\n",
       "      <td>28</td>\n",
       "      <td>13</td>\n",
       "    </tr>\n",
       "    <tr>\n",
       "      <th>1</th>\n",
       "      <td>SF</td>\n",
       "      <td>DET</td>\n",
       "      <td>20</td>\n",
       "      <td>21</td>\n",
       "    </tr>\n",
       "    <tr>\n",
       "      <th>2</th>\n",
       "      <td>SF</td>\n",
       "      <td>DET</td>\n",
       "      <td>24</td>\n",
       "      <td>21</td>\n",
       "    </tr>\n",
       "    <tr>\n",
       "      <th>3</th>\n",
       "      <td>SF</td>\n",
       "      <td>DET</td>\n",
       "      <td>20</td>\n",
       "      <td>21</td>\n",
       "    </tr>\n",
       "    <tr>\n",
       "      <th>4</th>\n",
       "      <td>SF</td>\n",
       "      <td>DET</td>\n",
       "      <td>20</td>\n",
       "      <td>21</td>\n",
       "    </tr>\n",
       "  </tbody>\n",
       "</table>\n",
       "</div>"
      ],
      "text/plain": [
       "  homeTeamAbbr visitorTeamAbbr  homeFinalScore  visitorFinalScore\n",
       "0           SF             DET              28                 13\n",
       "1           SF             DET              20                 21\n",
       "2           SF             DET              24                 21\n",
       "3           SF             DET              20                 21\n",
       "4           SF             DET              20                 21"
      ]
     },
     "execution_count": 133,
     "metadata": {},
     "output_type": "execute_result"
    }
   ],
   "source": [
    "df_query = df3.loc[\n",
    "    (df3.homeTeamAbbr == \"SF\") & (df3.visitorTeamAbbr == \"DET\")\n",
    "].reset_index(drop=True)\n",
    "df_query.head()"
   ]
  },
  {
   "cell_type": "code",
   "execution_count": 134,
   "metadata": {},
   "outputs": [
    {
     "data": {
      "text/plain": [
       "0.24377394636015326"
      ]
     },
     "execution_count": 134,
     "metadata": {},
     "output_type": "execute_result"
    }
   ],
   "source": [
    "# Calculate how many times the home team beats the visitor.\n",
    "(df_query.homeFinalScore >= df_query.visitorFinalScore).mean()"
   ]
  },
  {
   "cell_type": "code",
   "execution_count": 136,
   "metadata": {},
   "outputs": [
    {
     "data": {
      "text/html": [
       "<div>\n",
       "<style scoped>\n",
       "    .dataframe tbody tr th:only-of-type {\n",
       "        vertical-align: middle;\n",
       "    }\n",
       "\n",
       "    .dataframe tbody tr th {\n",
       "        vertical-align: top;\n",
       "    }\n",
       "\n",
       "    .dataframe thead th {\n",
       "        text-align: right;\n",
       "    }\n",
       "</style>\n",
       "<table border=\"1\" class=\"dataframe\">\n",
       "  <thead>\n",
       "    <tr style=\"text-align: right;\">\n",
       "      <th></th>\n",
       "      <th>homeFinalScore</th>\n",
       "      <th>visitorFinalScore</th>\n",
       "      <th>count</th>\n",
       "      <th>percentage</th>\n",
       "    </tr>\n",
       "  </thead>\n",
       "  <tbody>\n",
       "    <tr>\n",
       "      <th>0</th>\n",
       "      <td>20</td>\n",
       "      <td>21</td>\n",
       "      <td>916</td>\n",
       "      <td>0.438697</td>\n",
       "    </tr>\n",
       "    <tr>\n",
       "      <th>1</th>\n",
       "      <td>28</td>\n",
       "      <td>33</td>\n",
       "      <td>388</td>\n",
       "      <td>0.185824</td>\n",
       "    </tr>\n",
       "    <tr>\n",
       "      <th>2</th>\n",
       "      <td>28</td>\n",
       "      <td>16</td>\n",
       "      <td>244</td>\n",
       "      <td>0.116858</td>\n",
       "    </tr>\n",
       "    <tr>\n",
       "      <th>3</th>\n",
       "      <td>24</td>\n",
       "      <td>21</td>\n",
       "      <td>180</td>\n",
       "      <td>0.086207</td>\n",
       "    </tr>\n",
       "    <tr>\n",
       "      <th>4</th>\n",
       "      <td>19</td>\n",
       "      <td>33</td>\n",
       "      <td>139</td>\n",
       "      <td>0.066571</td>\n",
       "    </tr>\n",
       "    <tr>\n",
       "      <th>5</th>\n",
       "      <td>28</td>\n",
       "      <td>13</td>\n",
       "      <td>85</td>\n",
       "      <td>0.040709</td>\n",
       "    </tr>\n",
       "    <tr>\n",
       "      <th>6</th>\n",
       "      <td>38</td>\n",
       "      <td>41</td>\n",
       "      <td>75</td>\n",
       "      <td>0.035920</td>\n",
       "    </tr>\n",
       "    <tr>\n",
       "      <th>7</th>\n",
       "      <td>24</td>\n",
       "      <td>30</td>\n",
       "      <td>39</td>\n",
       "      <td>0.018678</td>\n",
       "    </tr>\n",
       "    <tr>\n",
       "      <th>8</th>\n",
       "      <td>20</td>\n",
       "      <td>34</td>\n",
       "      <td>22</td>\n",
       "      <td>0.010536</td>\n",
       "    </tr>\n",
       "  </tbody>\n",
       "</table>\n",
       "</div>"
      ],
      "text/plain": [
       "   homeFinalScore  visitorFinalScore  count  percentage\n",
       "0              20                 21    916    0.438697\n",
       "1              28                 33    388    0.185824\n",
       "2              28                 16    244    0.116858\n",
       "3              24                 21    180    0.086207\n",
       "4              19                 33    139    0.066571\n",
       "5              28                 13     85    0.040709\n",
       "6              38                 41     75    0.035920\n",
       "7              24                 30     39    0.018678\n",
       "8              20                 34     22    0.010536"
      ]
     },
     "execution_count": 136,
     "metadata": {},
     "output_type": "execute_result"
    }
   ],
   "source": [
    "# Count the frequency of score occurences.\n",
    "counts = (\n",
    "    df_query.groupby([\"homeFinalScore\", \"visitorFinalScore\"])\n",
    "    .homeTeamAbbr.count()\n",
    "    .reset_index()\n",
    "    .rename({\"homeTeamAbbr\": \"count\"}, axis=1)\n",
    "    .sort_values(by=\"count\", ascending=False)\n",
    "    .reset_index(drop=True)\n",
    ")\n",
    "counts[\"percentage\"] = counts[\"count\"] / counts[\"count\"].sum()\n",
    "counts.head(10)"
   ]
  },
  {
   "cell_type": "code",
   "execution_count": 137,
   "metadata": {},
   "outputs": [
    {
     "data": {
      "image/png": "[encoded data removed]",
      "text/plain": [
       "<Figure size 1000x400 with 1 Axes>"
      ]
     },
     "metadata": {},
     "output_type": "display_data"
    }
   ],
   "source": [
    "plt.figure(figsize=(10, 4))\n",
    "df_query.visitorFinalScore.hist(alpha=0.2, label=\"Visitor Final Score\")\n",
    "df_query.homeFinalScore.hist(alpha=0.2, label=\"Home Final Score\")\n",
    "plt.title(\"Home Score vs. Visitor Score\")\n",
    "plt.legend()\n",
    "plt.show()"
   ]
  },
  {
   "cell_type": "code",
   "execution_count": 138,
   "metadata": {},
   "outputs": [
    {
     "data": {
      "image/png": "[encoded data removed]",
      "text/plain": [
       "<Figure size 1000x400 with 2 Axes>"
      ]
     },
     "metadata": {},
     "output_type": "display_data"
    }
   ],
   "source": [
    "plt.figure(figsize=(10, 4))\n",
    "plt.scatter(\n",
    "    x=counts.homeFinalScore,\n",
    "    y=counts.visitorFinalScore,\n",
    "    c=counts.percentage,\n",
    "    s=3,\n",
    "    cmap=\"plasma\",\n",
    "    alpha=0.7,\n",
    "    marker=\"s\",\n",
    "    label=\"Simulated\",\n",
    ")\n",
    "plt.ylabel(\"Home Team Score\")\n",
    "plt.xlabel(\"Visitor Team Score\")\n",
    "plt.plot(\n",
    "    df_query.homeFinalScore,\n",
    "    df_query.homeFinalScore,\n",
    "    \"r-\",\n",
    "    label=\"Home Score = Visitor Score\",\n",
    ")\n",
    "plt.colorbar()\n",
    "plt.legend()\n",
    "plt.show()"
   ]
  }
 ],
 "metadata": {
  "kernelspec": {
   "display_name": ".venv",
   "language": "python",
   "name": "python3"
  },
  "language_info": {
   "codemirror_mode": {
    "name": "ipython",
    "version": 3
   },
   "file_extension": ".py",
   "mimetype": "text/x-python",
   "name": "python",
   "nbconvert_exporter": "python",
   "pygments_lexer": "ipython3",
   "version": "3.10.8"
  }
 },
 "nbformat": 4,
 "nbformat_minor": 2
}
